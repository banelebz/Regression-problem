{
  "nbformat": 4,
  "nbformat_minor": 0,
  "metadata": {
    "colab": {
      "name": "banelebz_DS_Assignment2.ipynb",
      "provenance": [],
      "collapsed_sections": []
    },
    "kernelspec": {
      "name": "python3",
      "display_name": "Python 3"
    },
    "language_info": {
      "name": "python"
    }
  },
  "cells": [
    {
      "cell_type": "markdown",
      "source": [
        "**I**  have  provided  a  dataset  which  has  a  number  of  features  and  a  single  target (column called ``target'').  Your  task  is  to  use  neural  networks  to address  this  regression problem.\n",
        "\n",
        "Import the dataset using Pandas as follows:\n",
        "\n",
        "\n",
        "\n",
        "```\n",
        "pandas.read_csv(\"https://protect-za.mimecast.com/s/vYKICAnX51iR2wOPiM4hPa\")\n",
        "```"
      ],
      "metadata": {
        "id": "Sxcrkk_ca0Wj"
      }
    },
    {
      "cell_type": "markdown",
      "source": [
        "## Importing modules"
      ],
      "metadata": {
        "id": "ZFh_Xp0JbFPx"
      }
    },
    {
      "cell_type": "code",
      "source": [
        "import pandas\n",
        "import numpy as np\n",
        "np.random.seed(1) \n",
        "import pandas as pd\n",
        "import tensorflow as tf\n",
        "from tensorflow.keras import Sequential\n",
        "from tensorflow.keras.layers import Dense\n",
        "from tensorflow.keras import metrics\n",
        "from tensorflow.keras.wrappers.scikit_learn import KerasRegressor\n",
        "from sklearn.metrics import mean_squared_error\n",
        "from sklearn.preprocessing import StandardScaler\n",
        "from sklearn.model_selection import train_test_split\n",
        "import matplotlib.pyplot as plt\n",
        "from sklearn.metrics import mean_squared_error, mean_absolute_error"
      ],
      "metadata": {
        "id": "bx0_NS3HbJEm"
      },
      "execution_count": 89,
      "outputs": []
    },
    {
      "cell_type": "markdown",
      "source": [
        "## Load Data"
      ],
      "metadata": {
        "id": "euim5Aj2bYPL"
      }
    },
    {
      "cell_type": "code",
      "source": [
        "df=pd.read_csv(\"https://protect-za.mimecast.com/s/vYKICAnX51iR2wOPiM4hPa\") # loading data\n",
        "dataset = df.values"
      ],
      "metadata": {
        "id": "m5qAtA5Xbd7Y"
      },
      "execution_count": 90,
      "outputs": []
    },
    {
      "cell_type": "markdown",
      "source": [
        "## Reading data "
      ],
      "metadata": {
        "id": "cwrovFlRbsqV"
      }
    },
    {
      "cell_type": "code",
      "source": [
        "df.head() # reading the first 5 data"
      ],
      "metadata": {
        "colab": {
          "base_uri": "https://localhost:8080/",
          "height": 206
        },
        "id": "Uh65wLNLb42w",
        "outputId": "3cfb1c63-6456-434e-c168-0f407ddf2a72"
      },
      "execution_count": 91,
      "outputs": [
        {
          "output_type": "execute_result",
          "data": {
            "text/html": [
              "\n",
              "  <div id=\"df-37344582-397f-4c0c-a6e6-cbd739f0609a\">\n",
              "    <div class=\"colab-df-container\">\n",
              "      <div>\n",
              "<style scoped>\n",
              "    .dataframe tbody tr th:only-of-type {\n",
              "        vertical-align: middle;\n",
              "    }\n",
              "\n",
              "    .dataframe tbody tr th {\n",
              "        vertical-align: top;\n",
              "    }\n",
              "\n",
              "    .dataframe thead th {\n",
              "        text-align: right;\n",
              "    }\n",
              "</style>\n",
              "<table border=\"1\" class=\"dataframe\">\n",
              "  <thead>\n",
              "    <tr style=\"text-align: right;\">\n",
              "      <th></th>\n",
              "      <th>var1</th>\n",
              "      <th>var2</th>\n",
              "      <th>var3</th>\n",
              "      <th>var4</th>\n",
              "      <th>var5</th>\n",
              "      <th>var6</th>\n",
              "      <th>var7</th>\n",
              "      <th>var8</th>\n",
              "      <th>target</th>\n",
              "    </tr>\n",
              "  </thead>\n",
              "  <tbody>\n",
              "    <tr>\n",
              "      <th>0</th>\n",
              "      <td>1080.0</td>\n",
              "      <td>0.0</td>\n",
              "      <td>0.0</td>\n",
              "      <td>324.0</td>\n",
              "      <td>5.0</td>\n",
              "      <td>2080.0</td>\n",
              "      <td>1352.0</td>\n",
              "      <td>56</td>\n",
              "      <td>79.99</td>\n",
              "    </tr>\n",
              "    <tr>\n",
              "      <th>1</th>\n",
              "      <td>1080.0</td>\n",
              "      <td>0.0</td>\n",
              "      <td>0.0</td>\n",
              "      <td>324.0</td>\n",
              "      <td>5.0</td>\n",
              "      <td>2110.0</td>\n",
              "      <td>1352.0</td>\n",
              "      <td>56</td>\n",
              "      <td>61.89</td>\n",
              "    </tr>\n",
              "    <tr>\n",
              "      <th>2</th>\n",
              "      <td>665.0</td>\n",
              "      <td>285.0</td>\n",
              "      <td>0.0</td>\n",
              "      <td>456.0</td>\n",
              "      <td>0.0</td>\n",
              "      <td>1864.0</td>\n",
              "      <td>1188.0</td>\n",
              "      <td>540</td>\n",
              "      <td>40.27</td>\n",
              "    </tr>\n",
              "    <tr>\n",
              "      <th>3</th>\n",
              "      <td>665.0</td>\n",
              "      <td>285.0</td>\n",
              "      <td>0.0</td>\n",
              "      <td>456.0</td>\n",
              "      <td>0.0</td>\n",
              "      <td>1864.0</td>\n",
              "      <td>1188.0</td>\n",
              "      <td>730</td>\n",
              "      <td>41.05</td>\n",
              "    </tr>\n",
              "    <tr>\n",
              "      <th>4</th>\n",
              "      <td>397.2</td>\n",
              "      <td>264.8</td>\n",
              "      <td>0.0</td>\n",
              "      <td>384.0</td>\n",
              "      <td>0.0</td>\n",
              "      <td>1956.8</td>\n",
              "      <td>1651.0</td>\n",
              "      <td>720</td>\n",
              "      <td>44.30</td>\n",
              "    </tr>\n",
              "  </tbody>\n",
              "</table>\n",
              "</div>\n",
              "      <button class=\"colab-df-convert\" onclick=\"convertToInteractive('df-37344582-397f-4c0c-a6e6-cbd739f0609a')\"\n",
              "              title=\"Convert this dataframe to an interactive table.\"\n",
              "              style=\"display:none;\">\n",
              "        \n",
              "  <svg xmlns=\"http://www.w3.org/2000/svg\" height=\"24px\"viewBox=\"0 0 24 24\"\n",
              "       width=\"24px\">\n",
              "    <path d=\"M0 0h24v24H0V0z\" fill=\"none\"/>\n",
              "    <path d=\"M18.56 5.44l.94 2.06.94-2.06 2.06-.94-2.06-.94-.94-2.06-.94 2.06-2.06.94zm-11 1L8.5 8.5l.94-2.06 2.06-.94-2.06-.94L8.5 2.5l-.94 2.06-2.06.94zm10 10l.94 2.06.94-2.06 2.06-.94-2.06-.94-.94-2.06-.94 2.06-2.06.94z\"/><path d=\"M17.41 7.96l-1.37-1.37c-.4-.4-.92-.59-1.43-.59-.52 0-1.04.2-1.43.59L10.3 9.45l-7.72 7.72c-.78.78-.78 2.05 0 2.83L4 21.41c.39.39.9.59 1.41.59.51 0 1.02-.2 1.41-.59l7.78-7.78 2.81-2.81c.8-.78.8-2.07 0-2.86zM5.41 20L4 18.59l7.72-7.72 1.47 1.35L5.41 20z\"/>\n",
              "  </svg>\n",
              "      </button>\n",
              "      \n",
              "  <style>\n",
              "    .colab-df-container {\n",
              "      display:flex;\n",
              "      flex-wrap:wrap;\n",
              "      gap: 12px;\n",
              "    }\n",
              "\n",
              "    .colab-df-convert {\n",
              "      background-color: #E8F0FE;\n",
              "      border: none;\n",
              "      border-radius: 50%;\n",
              "      cursor: pointer;\n",
              "      display: none;\n",
              "      fill: #1967D2;\n",
              "      height: 32px;\n",
              "      padding: 0 0 0 0;\n",
              "      width: 32px;\n",
              "    }\n",
              "\n",
              "    .colab-df-convert:hover {\n",
              "      background-color: #E2EBFA;\n",
              "      box-shadow: 0px 1px 2px rgba(60, 64, 67, 0.3), 0px 1px 3px 1px rgba(60, 64, 67, 0.15);\n",
              "      fill: #174EA6;\n",
              "    }\n",
              "\n",
              "    [theme=dark] .colab-df-convert {\n",
              "      background-color: #3B4455;\n",
              "      fill: #D2E3FC;\n",
              "    }\n",
              "\n",
              "    [theme=dark] .colab-df-convert:hover {\n",
              "      background-color: #434B5C;\n",
              "      box-shadow: 0px 1px 3px 1px rgba(0, 0, 0, 0.15);\n",
              "      filter: drop-shadow(0px 1px 2px rgba(0, 0, 0, 0.3));\n",
              "      fill: #FFFFFF;\n",
              "    }\n",
              "  </style>\n",
              "\n",
              "      <script>\n",
              "        const buttonEl =\n",
              "          document.querySelector('#df-37344582-397f-4c0c-a6e6-cbd739f0609a button.colab-df-convert');\n",
              "        buttonEl.style.display =\n",
              "          google.colab.kernel.accessAllowed ? 'block' : 'none';\n",
              "\n",
              "        async function convertToInteractive(key) {\n",
              "          const element = document.querySelector('#df-37344582-397f-4c0c-a6e6-cbd739f0609a');\n",
              "          const dataTable =\n",
              "            await google.colab.kernel.invokeFunction('convertToInteractive',\n",
              "                                                     [key], {});\n",
              "          if (!dataTable) return;\n",
              "\n",
              "          const docLinkHtml = 'Like what you see? Visit the ' +\n",
              "            '<a target=\"_blank\" href=https://colab.research.google.com/notebooks/data_table.ipynb>data table notebook</a>'\n",
              "            + ' to learn more about interactive tables.';\n",
              "          element.innerHTML = '';\n",
              "          dataTable['output_type'] = 'display_data';\n",
              "          await google.colab.output.renderOutput(dataTable, element);\n",
              "          const docLink = document.createElement('div');\n",
              "          docLink.innerHTML = docLinkHtml;\n",
              "          element.appendChild(docLink);\n",
              "        }\n",
              "      </script>\n",
              "    </div>\n",
              "  </div>\n",
              "  "
            ],
            "text/plain": [
              "     var1   var2  var3   var4  var5    var6    var7  var8  target\n",
              "0  1080.0    0.0   0.0  324.0   5.0  2080.0  1352.0    56   79.99\n",
              "1  1080.0    0.0   0.0  324.0   5.0  2110.0  1352.0    56   61.89\n",
              "2   665.0  285.0   0.0  456.0   0.0  1864.0  1188.0   540   40.27\n",
              "3   665.0  285.0   0.0  456.0   0.0  1864.0  1188.0   730   41.05\n",
              "4   397.2  264.8   0.0  384.0   0.0  1956.8  1651.0   720   44.30"
            ]
          },
          "metadata": {},
          "execution_count": 91
        }
      ]
    },
    {
      "cell_type": "code",
      "source": [
        "df.describe() # checking the description of data "
      ],
      "metadata": {
        "colab": {
          "base_uri": "https://localhost:8080/",
          "height": 300
        },
        "id": "A1L-8ed2b_qN",
        "outputId": "9e13ee81-e72a-43dd-845f-bcbe44486624"
      },
      "execution_count": 92,
      "outputs": [
        {
          "output_type": "execute_result",
          "data": {
            "text/html": [
              "\n",
              "  <div id=\"df-3a0a3280-2008-438e-b314-52c4fefcb250\">\n",
              "    <div class=\"colab-df-container\">\n",
              "      <div>\n",
              "<style scoped>\n",
              "    .dataframe tbody tr th:only-of-type {\n",
              "        vertical-align: middle;\n",
              "    }\n",
              "\n",
              "    .dataframe tbody tr th {\n",
              "        vertical-align: top;\n",
              "    }\n",
              "\n",
              "    .dataframe thead th {\n",
              "        text-align: right;\n",
              "    }\n",
              "</style>\n",
              "<table border=\"1\" class=\"dataframe\">\n",
              "  <thead>\n",
              "    <tr style=\"text-align: right;\">\n",
              "      <th></th>\n",
              "      <th>var1</th>\n",
              "      <th>var2</th>\n",
              "      <th>var3</th>\n",
              "      <th>var4</th>\n",
              "      <th>var5</th>\n",
              "      <th>var6</th>\n",
              "      <th>var7</th>\n",
              "      <th>var8</th>\n",
              "      <th>target</th>\n",
              "    </tr>\n",
              "  </thead>\n",
              "  <tbody>\n",
              "    <tr>\n",
              "      <th>count</th>\n",
              "      <td>1030.000000</td>\n",
              "      <td>1030.000000</td>\n",
              "      <td>1030.000000</td>\n",
              "      <td>1030.000000</td>\n",
              "      <td>1030.000000</td>\n",
              "      <td>1030.000000</td>\n",
              "      <td>1030.000000</td>\n",
              "      <td>1030.000000</td>\n",
              "      <td>1030.000000</td>\n",
              "    </tr>\n",
              "    <tr>\n",
              "      <th>mean</th>\n",
              "      <td>562.331262</td>\n",
              "      <td>147.790971</td>\n",
              "      <td>108.374272</td>\n",
              "      <td>363.132718</td>\n",
              "      <td>12.406223</td>\n",
              "      <td>1945.837184</td>\n",
              "      <td>1547.157767</td>\n",
              "      <td>91.324272</td>\n",
              "      <td>35.817961</td>\n",
              "    </tr>\n",
              "    <tr>\n",
              "      <th>std</th>\n",
              "      <td>209.014283</td>\n",
              "      <td>172.558207</td>\n",
              "      <td>127.992939</td>\n",
              "      <td>42.711134</td>\n",
              "      <td>11.946983</td>\n",
              "      <td>155.507636</td>\n",
              "      <td>160.350855</td>\n",
              "      <td>126.339823</td>\n",
              "      <td>16.705742</td>\n",
              "    </tr>\n",
              "    <tr>\n",
              "      <th>min</th>\n",
              "      <td>204.000000</td>\n",
              "      <td>0.000000</td>\n",
              "      <td>0.000000</td>\n",
              "      <td>243.500000</td>\n",
              "      <td>0.000000</td>\n",
              "      <td>1602.000000</td>\n",
              "      <td>1188.000000</td>\n",
              "      <td>2.000000</td>\n",
              "      <td>2.330000</td>\n",
              "    </tr>\n",
              "    <tr>\n",
              "      <th>25%</th>\n",
              "      <td>384.750000</td>\n",
              "      <td>0.000000</td>\n",
              "      <td>0.000000</td>\n",
              "      <td>329.800000</td>\n",
              "      <td>0.000000</td>\n",
              "      <td>1864.000000</td>\n",
              "      <td>1461.900000</td>\n",
              "      <td>14.000000</td>\n",
              "      <td>23.710000</td>\n",
              "    </tr>\n",
              "    <tr>\n",
              "      <th>50%</th>\n",
              "      <td>545.800000</td>\n",
              "      <td>44.000000</td>\n",
              "      <td>0.000000</td>\n",
              "      <td>370.000000</td>\n",
              "      <td>12.700000</td>\n",
              "      <td>1936.000000</td>\n",
              "      <td>1559.020000</td>\n",
              "      <td>56.000000</td>\n",
              "      <td>34.445000</td>\n",
              "    </tr>\n",
              "    <tr>\n",
              "      <th>75%</th>\n",
              "      <td>700.000000</td>\n",
              "      <td>285.900000</td>\n",
              "      <td>236.540000</td>\n",
              "      <td>384.000000</td>\n",
              "      <td>20.320000</td>\n",
              "      <td>2058.800000</td>\n",
              "      <td>1648.000000</td>\n",
              "      <td>112.000000</td>\n",
              "      <td>46.135000</td>\n",
              "    </tr>\n",
              "    <tr>\n",
              "      <th>max</th>\n",
              "      <td>1080.000000</td>\n",
              "      <td>718.800000</td>\n",
              "      <td>400.200000</td>\n",
              "      <td>494.000000</td>\n",
              "      <td>64.400000</td>\n",
              "      <td>2290.000000</td>\n",
              "      <td>1985.200000</td>\n",
              "      <td>730.000000</td>\n",
              "      <td>82.600000</td>\n",
              "    </tr>\n",
              "  </tbody>\n",
              "</table>\n",
              "</div>\n",
              "      <button class=\"colab-df-convert\" onclick=\"convertToInteractive('df-3a0a3280-2008-438e-b314-52c4fefcb250')\"\n",
              "              title=\"Convert this dataframe to an interactive table.\"\n",
              "              style=\"display:none;\">\n",
              "        \n",
              "  <svg xmlns=\"http://www.w3.org/2000/svg\" height=\"24px\"viewBox=\"0 0 24 24\"\n",
              "       width=\"24px\">\n",
              "    <path d=\"M0 0h24v24H0V0z\" fill=\"none\"/>\n",
              "    <path d=\"M18.56 5.44l.94 2.06.94-2.06 2.06-.94-2.06-.94-.94-2.06-.94 2.06-2.06.94zm-11 1L8.5 8.5l.94-2.06 2.06-.94-2.06-.94L8.5 2.5l-.94 2.06-2.06.94zm10 10l.94 2.06.94-2.06 2.06-.94-2.06-.94-.94-2.06-.94 2.06-2.06.94z\"/><path d=\"M17.41 7.96l-1.37-1.37c-.4-.4-.92-.59-1.43-.59-.52 0-1.04.2-1.43.59L10.3 9.45l-7.72 7.72c-.78.78-.78 2.05 0 2.83L4 21.41c.39.39.9.59 1.41.59.51 0 1.02-.2 1.41-.59l7.78-7.78 2.81-2.81c.8-.78.8-2.07 0-2.86zM5.41 20L4 18.59l7.72-7.72 1.47 1.35L5.41 20z\"/>\n",
              "  </svg>\n",
              "      </button>\n",
              "      \n",
              "  <style>\n",
              "    .colab-df-container {\n",
              "      display:flex;\n",
              "      flex-wrap:wrap;\n",
              "      gap: 12px;\n",
              "    }\n",
              "\n",
              "    .colab-df-convert {\n",
              "      background-color: #E8F0FE;\n",
              "      border: none;\n",
              "      border-radius: 50%;\n",
              "      cursor: pointer;\n",
              "      display: none;\n",
              "      fill: #1967D2;\n",
              "      height: 32px;\n",
              "      padding: 0 0 0 0;\n",
              "      width: 32px;\n",
              "    }\n",
              "\n",
              "    .colab-df-convert:hover {\n",
              "      background-color: #E2EBFA;\n",
              "      box-shadow: 0px 1px 2px rgba(60, 64, 67, 0.3), 0px 1px 3px 1px rgba(60, 64, 67, 0.15);\n",
              "      fill: #174EA6;\n",
              "    }\n",
              "\n",
              "    [theme=dark] .colab-df-convert {\n",
              "      background-color: #3B4455;\n",
              "      fill: #D2E3FC;\n",
              "    }\n",
              "\n",
              "    [theme=dark] .colab-df-convert:hover {\n",
              "      background-color: #434B5C;\n",
              "      box-shadow: 0px 1px 3px 1px rgba(0, 0, 0, 0.15);\n",
              "      filter: drop-shadow(0px 1px 2px rgba(0, 0, 0, 0.3));\n",
              "      fill: #FFFFFF;\n",
              "    }\n",
              "  </style>\n",
              "\n",
              "      <script>\n",
              "        const buttonEl =\n",
              "          document.querySelector('#df-3a0a3280-2008-438e-b314-52c4fefcb250 button.colab-df-convert');\n",
              "        buttonEl.style.display =\n",
              "          google.colab.kernel.accessAllowed ? 'block' : 'none';\n",
              "\n",
              "        async function convertToInteractive(key) {\n",
              "          const element = document.querySelector('#df-3a0a3280-2008-438e-b314-52c4fefcb250');\n",
              "          const dataTable =\n",
              "            await google.colab.kernel.invokeFunction('convertToInteractive',\n",
              "                                                     [key], {});\n",
              "          if (!dataTable) return;\n",
              "\n",
              "          const docLinkHtml = 'Like what you see? Visit the ' +\n",
              "            '<a target=\"_blank\" href=https://colab.research.google.com/notebooks/data_table.ipynb>data table notebook</a>'\n",
              "            + ' to learn more about interactive tables.';\n",
              "          element.innerHTML = '';\n",
              "          dataTable['output_type'] = 'display_data';\n",
              "          await google.colab.output.renderOutput(dataTable, element);\n",
              "          const docLink = document.createElement('div');\n",
              "          docLink.innerHTML = docLinkHtml;\n",
              "          element.appendChild(docLink);\n",
              "        }\n",
              "      </script>\n",
              "    </div>\n",
              "  </div>\n",
              "  "
            ],
            "text/plain": [
              "              var1         var2  ...         var8       target\n",
              "count  1030.000000  1030.000000  ...  1030.000000  1030.000000\n",
              "mean    562.331262   147.790971  ...    91.324272    35.817961\n",
              "std     209.014283   172.558207  ...   126.339823    16.705742\n",
              "min     204.000000     0.000000  ...     2.000000     2.330000\n",
              "25%     384.750000     0.000000  ...    14.000000    23.710000\n",
              "50%     545.800000    44.000000  ...    56.000000    34.445000\n",
              "75%     700.000000   285.900000  ...   112.000000    46.135000\n",
              "max    1080.000000   718.800000  ...   730.000000    82.600000\n",
              "\n",
              "[8 rows x 9 columns]"
            ]
          },
          "metadata": {},
          "execution_count": 92
        }
      ]
    },
    {
      "cell_type": "markdown",
      "source": [
        "## View All data"
      ],
      "metadata": {
        "id": "Zk-NedSUqyYd"
      }
    },
    {
      "cell_type": "code",
      "source": [
        "dataset"
      ],
      "metadata": {
        "colab": {
          "base_uri": "https://localhost:8080/"
        },
        "id": "kF5Vh3Ndq1Cu",
        "outputId": "f7231740-d78c-4ee4-9af9-223653141e73"
      },
      "execution_count": 93,
      "outputs": [
        {
          "output_type": "execute_result",
          "data": {
            "text/plain": [
              "array([[1080.  ,    0.  ,    0.  , ..., 1352.  ,   56.  ,   79.99],\n",
              "       [1080.  ,    0.  ,    0.  , ..., 1352.  ,   56.  ,   61.89],\n",
              "       [ 665.  ,  285.  ,    0.  , ..., 1188.  ,  540.  ,   40.27],\n",
              "       ...,\n",
              "       [ 297.  ,  278.8 ,  217.2 , ..., 1560.  ,   56.  ,   23.7 ],\n",
              "       [ 318.2 ,  373.4 ,    0.  , ..., 1577.8 ,   56.  ,   32.77],\n",
              "       [ 521.8 ,  201.  ,  156.6 , ..., 1523.  ,   56.  ,   32.4 ]])"
            ]
          },
          "metadata": {},
          "execution_count": 93
        }
      ]
    },
    {
      "cell_type": "markdown",
      "source": [
        "## Standaring data"
      ],
      "metadata": {
        "id": "ZUTuKsBGjOci"
      }
    },
    {
      "cell_type": "code",
      "source": [
        "scaled_data = StandardScaler().fit_transform(dataset)"
      ],
      "metadata": {
        "id": "mmKJ46ZiuPPA"
      },
      "execution_count": 94,
      "outputs": []
    },
    {
      "cell_type": "markdown",
      "source": [
        "## Checking data shape"
      ],
      "metadata": {
        "id": "DX-lfUNzjT44"
      }
    },
    {
      "cell_type": "code",
      "source": [
        "df.shape"
      ],
      "metadata": {
        "colab": {
          "base_uri": "https://localhost:8080/"
        },
        "id": "UQrFXRIccRuO",
        "outputId": "031ab163-edf9-4859-bb90-4ae4da97b7dc"
      },
      "execution_count": 95,
      "outputs": [
        {
          "output_type": "execute_result",
          "data": {
            "text/plain": [
              "(1030, 9)"
            ]
          },
          "metadata": {},
          "execution_count": 95
        }
      ]
    },
    {
      "cell_type": "markdown",
      "source": [
        "## length of data"
      ],
      "metadata": {
        "id": "K_Yowg1m3QMA"
      }
    },
    {
      "cell_type": "code",
      "source": [
        "len(df) # length of data"
      ],
      "metadata": {
        "colab": {
          "base_uri": "https://localhost:8080/"
        },
        "id": "KB-SJTpOccdI",
        "outputId": "123b5a4a-6563-44fb-ac2d-51dbb2e3821e"
      },
      "execution_count": 96,
      "outputs": [
        {
          "output_type": "execute_result",
          "data": {
            "text/plain": [
              "1030"
            ]
          },
          "metadata": {},
          "execution_count": 96
        }
      ]
    },
    {
      "cell_type": "markdown",
      "source": [
        "## Create X and y variables (features and target)"
      ],
      "metadata": {
        "id": "k5a0kw8jcgcF"
      }
    },
    {
      "cell_type": "code",
      "source": [
        "X=scaled_data[:,0:8] # splting into features\n",
        "Y=scaled_data[:,8:9] # splting into target"
      ],
      "metadata": {
        "id": "TKbqB_3irhr0"
      },
      "execution_count": 97,
      "outputs": []
    },
    {
      "cell_type": "markdown",
      "source": [
        "## Checking data"
      ],
      "metadata": {
        "id": "fagy__SreKZD"
      }
    },
    {
      "cell_type": "code",
      "source": [
        "X"
      ],
      "metadata": {
        "colab": {
          "base_uri": "https://localhost:8080/"
        },
        "id": "CE9-mEp-eMsh",
        "outputId": "94e96027-0142-4bf5-ea7b-9d25e08dab18"
      },
      "execution_count": 98,
      "outputs": [
        {
          "output_type": "execute_result",
          "data": {
            "text/plain": [
              "array([[ 2.47791782, -0.85688631, -0.84713204, ...,  0.86316012,\n",
              "        -1.21765845, -0.27973311],\n",
              "       [ 2.47791782, -0.85688631, -0.84713204, ...,  1.05617041,\n",
              "        -1.21765845, -0.27973311],\n",
              "       [ 0.49144303,  0.79553263, -0.84713204, ..., -0.52651395,\n",
              "        -2.24091255,  3.55306569],\n",
              "       ...,\n",
              "       [-1.2700575 ,  0.75958527,  0.85066095, ..., -1.03606111,\n",
              "         0.08012724, -0.27973311],\n",
              "       [-1.16857975,  1.3080724 , -0.84713204, ...,  0.21464556,\n",
              "         0.19118775, -0.27973311],\n",
              "       [-0.19401043,  0.30850389,  0.37696733, ..., -1.39506025,\n",
              "        -0.15072887, -0.27973311]])"
            ]
          },
          "metadata": {},
          "execution_count": 98
        }
      ]
    },
    {
      "cell_type": "code",
      "source": [
        "Y"
      ],
      "metadata": {
        "colab": {
          "base_uri": "https://localhost:8080/"
        },
        "id": "4841Gn3oePHU",
        "outputId": "8d11b2b1-8e60-4b45-85be-e0880bc03e25"
      },
      "execution_count": 99,
      "outputs": [
        {
          "output_type": "execute_result",
          "data": {
            "text/plain": [
              "array([[ 2.64540763],\n",
              "       [ 1.56142148],\n",
              "       [ 0.26662698],\n",
              "       ...,\n",
              "       [-0.72572939],\n",
              "       [-0.18253855],\n",
              "       [-0.20469738]])"
            ]
          },
          "metadata": {},
          "execution_count": 99
        }
      ]
    },
    {
      "cell_type": "markdown",
      "source": [
        "## Check the shapes of the data"
      ],
      "metadata": {
        "id": "ERDDmRXReSwe"
      }
    },
    {
      "cell_type": "code",
      "source": [
        "X.shape"
      ],
      "metadata": {
        "colab": {
          "base_uri": "https://localhost:8080/"
        },
        "id": "rGcIjy9XeuPa",
        "outputId": "fe8237f4-0edf-4fcb-f481-709b0745a587"
      },
      "execution_count": 100,
      "outputs": [
        {
          "output_type": "execute_result",
          "data": {
            "text/plain": [
              "(1030, 8)"
            ]
          },
          "metadata": {},
          "execution_count": 100
        }
      ]
    },
    {
      "cell_type": "code",
      "source": [
        "Y.shape"
      ],
      "metadata": {
        "colab": {
          "base_uri": "https://localhost:8080/"
        },
        "id": "Cpb_M0x2eyFi",
        "outputId": "848a82b5-fc0e-4469-fe17-7f4c281a6f40"
      },
      "execution_count": 101,
      "outputs": [
        {
          "output_type": "execute_result",
          "data": {
            "text/plain": [
              "(1030, 1)"
            ]
          },
          "metadata": {},
          "execution_count": 101
        }
      ]
    },
    {
      "cell_type": "markdown",
      "source": [
        "## Split the data into training and test data"
      ],
      "metadata": {
        "id": "Ham-rXUefnH-"
      }
    },
    {
      "cell_type": "code",
      "source": [
        "x_train, x_test, y_train, y_test = train_test_split(X, Y, test_size=.2, random_state=1) # splting into train and test data"
      ],
      "metadata": {
        "id": "VNc0tdfIe4pb"
      },
      "execution_count": 102,
      "outputs": []
    },
    {
      "cell_type": "markdown",
      "source": [
        "## Create model"
      ],
      "metadata": {
        "id": "TqmVa8mGgAYu"
      }
    },
    {
      "cell_type": "code",
      "source": [
        "# define the model\n",
        "def baseline():\n",
        "    # create model\n",
        "    model = Sequential()   \n",
        "    # add one fully connected layer\n",
        "    model.add(Dense(units = 20, input_dim=8, activation='relu'))\n",
        "    model.add(Dense(10, activation='relu'))\n",
        "    # add a fully connected layer for the output\n",
        "    model.add(Dense(units=1, activation='linear'))    \n",
        "    # Compile model\n",
        "    model.compile(loss='mae', optimizer='adam',metrics=[metrics.mae])\n",
        "    \n",
        "    return model"
      ],
      "metadata": {
        "id": "F9_pKNn6gLtx"
      },
      "execution_count": 103,
      "outputs": []
    },
    {
      "cell_type": "markdown",
      "source": [
        "##Initialise the model"
      ],
      "metadata": {
        "id": "kNT-0YkVhGrd"
      }
    },
    {
      "cell_type": "code",
      "source": [
        "model = baseline()"
      ],
      "metadata": {
        "id": "tqu2AZVLhaAH"
      },
      "execution_count": 104,
      "outputs": []
    },
    {
      "cell_type": "markdown",
      "source": [
        "## Determine the number of trainable parameters"
      ],
      "metadata": {
        "id": "DrQVepXOiL9s"
      }
    },
    {
      "cell_type": "code",
      "source": [
        "model.summary()"
      ],
      "metadata": {
        "colab": {
          "base_uri": "https://localhost:8080/"
        },
        "id": "bPZ6OeBZiOCl",
        "outputId": "bad162c7-0b71-4547-dce2-ecade7cb8e18"
      },
      "execution_count": 105,
      "outputs": [
        {
          "output_type": "stream",
          "name": "stdout",
          "text": [
            "Model: \"sequential_4\"\n",
            "_________________________________________________________________\n",
            " Layer (type)                Output Shape              Param #   \n",
            "=================================================================\n",
            " dense_12 (Dense)            (None, 20)                180       \n",
            "                                                                 \n",
            " dense_13 (Dense)            (None, 10)                210       \n",
            "                                                                 \n",
            " dense_14 (Dense)            (None, 1)                 11        \n",
            "                                                                 \n",
            "=================================================================\n",
            "Total params: 401\n",
            "Trainable params: 401\n",
            "Non-trainable params: 0\n",
            "_________________________________________________________________\n"
          ]
        }
      ]
    },
    {
      "cell_type": "markdown",
      "source": [
        "## Train the model"
      ],
      "metadata": {
        "id": "X64pbcFcir8t"
      }
    },
    {
      "cell_type": "code",
      "source": [
        "history = model.fit(x_train, y_train, epochs=24, batch_size=3, verbose=1)"
      ],
      "metadata": {
        "colab": {
          "base_uri": "https://localhost:8080/"
        },
        "id": "jXQDNQ65it_9",
        "outputId": "3c0e588f-5b86-45c1-9a54-c595a4c7edaa"
      },
      "execution_count": 106,
      "outputs": [
        {
          "output_type": "stream",
          "name": "stdout",
          "text": [
            "Epoch 1/24\n",
            "275/275 [==============================] - 1s 2ms/step - loss: 0.8004 - mean_absolute_error: 0.8004\n",
            "Epoch 2/24\n",
            "275/275 [==============================] - 0s 2ms/step - loss: 0.5710 - mean_absolute_error: 0.5710\n",
            "Epoch 3/24\n",
            "275/275 [==============================] - 0s 2ms/step - loss: 0.4918 - mean_absolute_error: 0.4918\n",
            "Epoch 4/24\n",
            "275/275 [==============================] - 0s 2ms/step - loss: 0.4326 - mean_absolute_error: 0.4326\n",
            "Epoch 5/24\n",
            "275/275 [==============================] - 0s 2ms/step - loss: 0.3955 - mean_absolute_error: 0.3955\n",
            "Epoch 6/24\n",
            "275/275 [==============================] - 0s 2ms/step - loss: 0.3674 - mean_absolute_error: 0.3674\n",
            "Epoch 7/24\n",
            "275/275 [==============================] - 0s 2ms/step - loss: 0.3464 - mean_absolute_error: 0.3464\n",
            "Epoch 8/24\n",
            "275/275 [==============================] - 0s 2ms/step - loss: 0.3249 - mean_absolute_error: 0.3249\n",
            "Epoch 9/24\n",
            "275/275 [==============================] - 0s 2ms/step - loss: 0.3138 - mean_absolute_error: 0.3138\n",
            "Epoch 10/24\n",
            "275/275 [==============================] - 0s 2ms/step - loss: 0.3019 - mean_absolute_error: 0.3019\n",
            "Epoch 11/24\n",
            "275/275 [==============================] - 0s 2ms/step - loss: 0.2918 - mean_absolute_error: 0.2918\n",
            "Epoch 12/24\n",
            "275/275 [==============================] - 0s 2ms/step - loss: 0.2848 - mean_absolute_error: 0.2848\n",
            "Epoch 13/24\n",
            "275/275 [==============================] - 0s 2ms/step - loss: 0.2760 - mean_absolute_error: 0.2760\n",
            "Epoch 14/24\n",
            "275/275 [==============================] - 0s 2ms/step - loss: 0.2705 - mean_absolute_error: 0.2705\n",
            "Epoch 15/24\n",
            "275/275 [==============================] - 0s 2ms/step - loss: 0.2679 - mean_absolute_error: 0.2679\n",
            "Epoch 16/24\n",
            "275/275 [==============================] - 0s 2ms/step - loss: 0.2634 - mean_absolute_error: 0.2634\n",
            "Epoch 17/24\n",
            "275/275 [==============================] - 0s 2ms/step - loss: 0.2606 - mean_absolute_error: 0.2606\n",
            "Epoch 18/24\n",
            "275/275 [==============================] - 0s 2ms/step - loss: 0.2535 - mean_absolute_error: 0.2535\n",
            "Epoch 19/24\n",
            "275/275 [==============================] - 0s 2ms/step - loss: 0.2510 - mean_absolute_error: 0.2510\n",
            "Epoch 20/24\n",
            "275/275 [==============================] - 0s 2ms/step - loss: 0.2489 - mean_absolute_error: 0.2489\n",
            "Epoch 21/24\n",
            "275/275 [==============================] - 0s 2ms/step - loss: 0.2471 - mean_absolute_error: 0.2471\n",
            "Epoch 22/24\n",
            "275/275 [==============================] - 0s 2ms/step - loss: 0.2467 - mean_absolute_error: 0.2467\n",
            "Epoch 23/24\n",
            "275/275 [==============================] - 0s 2ms/step - loss: 0.2395 - mean_absolute_error: 0.2395\n",
            "Epoch 24/24\n",
            "275/275 [==============================] - 0s 2ms/step - loss: 0.2365 - mean_absolute_error: 0.2365\n"
          ]
        }
      ]
    },
    {
      "cell_type": "markdown",
      "source": [
        "## Predict on the test data"
      ],
      "metadata": {
        "id": "jF7q47XAi3v7"
      }
    },
    {
      "cell_type": "code",
      "source": [
        "prediction = model.predict(x_test)"
      ],
      "metadata": {
        "id": "DelKylwCi8Rb"
      },
      "execution_count": 107,
      "outputs": []
    },
    {
      "cell_type": "markdown",
      "source": [
        "## Compute the mean squared error"
      ],
      "metadata": {
        "id": "Bmhk_GlDjFjF"
      }
    },
    {
      "cell_type": "code",
      "source": [
        "mean_squared_error(y_test, prediction)"
      ],
      "metadata": {
        "colab": {
          "base_uri": "https://localhost:8080/"
        },
        "id": "O7-hd672jGOj",
        "outputId": "1f46edb2-300d-4124-bc2f-862f3b7cddfc"
      },
      "execution_count": 108,
      "outputs": [
        {
          "output_type": "execute_result",
          "data": {
            "text/plain": [
              "0.19031417417782653"
            ]
          },
          "metadata": {},
          "execution_count": 108
        }
      ]
    },
    {
      "cell_type": "code",
      "source": [
        "mean_absolute_error(y_test,prediction)"
      ],
      "metadata": {
        "colab": {
          "base_uri": "https://localhost:8080/"
        },
        "id": "gr3jSidgjZvR",
        "outputId": "4f45ae29-acd1-4a30-e3c3-5f096751e15a"
      },
      "execution_count": 109,
      "outputs": [
        {
          "output_type": "execute_result",
          "data": {
            "text/plain": [
              "0.3065977723702273"
            ]
          },
          "metadata": {},
          "execution_count": 109
        }
      ]
    },
    {
      "cell_type": "markdown",
      "source": [
        "## Plot"
      ],
      "metadata": {
        "id": "Cn41qBYhkD-5"
      }
    },
    {
      "cell_type": "code",
      "source": [
        "plt.figure(figsize=(8, 8))\n",
        "plt.plot(history.history['mean_absolute_error'])\n",
        "plt.title('Model loss')\n",
        "plt.ylabel('Mean absolute Error')\n",
        "plt.xlabel('Epoch')\n",
        "plt.show()"
      ],
      "metadata": {
        "colab": {
          "base_uri": "https://localhost:8080/",
          "height": 513
        },
        "id": "UTJnBn5HkFq3",
        "outputId": "929f9569-385c-4753-d9da-9142dbb031df"
      },
      "execution_count": 110,
      "outputs": [
        {
          "output_type": "display_data",
          "data": {
            "image/png": "[encoded data removed]",
            "text/plain": [
              "<Figure size 576x576 with 1 Axes>"
            ]
          },
          "metadata": {
            "needs_background": "light"
          }
        }
      ]
    }
  ]
}